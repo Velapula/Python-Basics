{
  "nbformat": 4,
  "nbformat_minor": 0,
  "metadata": {
    "colab": {
      "provenance": [],
      "toc_visible": true
    },
    "kernelspec": {
      "name": "python3",
      "display_name": "Python 3"
    },
    "language_info": {
      "name": "python"
    }
  },
  "cells": [
    {
      "cell_type": "markdown",
      "source": [
        "**Theory Questions**"
      ],
      "metadata": {
        "id": "Vi3LYUnZY7WF"
      }
    },
    {
      "cell_type": "markdown",
      "source": [
        "1. What is Python, and why is it popular?\n",
        "      \n",
        "    -> Python is a high-level, interpreted programming language known for its simplicity and readability. It is widely used in web development, data science, artificial intelligence and more.\n",
        "\n",
        "    It is popular because of the following cases --\n",
        "\n",
        "    Easy to Learn and Use – Python’s simple syntax makes it beginner-friendly.\n",
        "\n",
        "    Versatile – Used in web development, AI, machine learning, data analysis, and more.\n",
        "\n",
        "    Large Community Support – A vast community provides libraries, frameworks, and support.\n",
        "\n",
        "    Extensive Libraries and Frameworks – Includes NumPy, Pandas, TensorFlow, Flask, Django, and more.\n",
        "\n",
        "    Cross-Platform – Works on Windows, macOS, and Linux.\n",
        "\n",
        "    Automation – Great for scripting and automating repetitive tasks.\n",
        "\n",
        "    Strong in Data Science & AI – A top choice for machine learning and deep learning applications.\n"
      ],
      "metadata": {
        "id": "zXCVJIwYY82R"
      }
    },
    {
      "cell_type": "markdown",
      "source": [
        "2. What is an interpreter in Python?\n",
        "\n",
        "    -> An interpreter in Python is a program that executes Python code line by line, converting it into machine understandable language at runtime. Unlike compiled languages like c or Java, python does not require an explicit compilation step. Instead, the interpreter reads and runs the code directly.\n",
        "  \n"
      ],
      "metadata": {
        "id": "oILd9GiwbZsX"
      }
    },
    {
      "cell_type": "markdown",
      "source": [
        "3. What are pre-defined keywords in Python?\n",
        "\n",
        "    -> Predefined keywords in Python are reserved words that have special meanings and cannot be used as variable names, function names, or identifiers. These keywords define Python's syntax and structure.\n",
        "    \n",
        "    They include-\n",
        "    \n",
        "    Control Flow- if, elif, else, for, while, break, continue, pass\n",
        "\n",
        "    Functions and Classes- def, return, lambda, class\n",
        "    \n",
        "    Exception Handling- try, except, finally, raise, assert\n",
        "    \n",
        "    Boolean Values- True, False, None\n",
        "    \n",
        "    Logical Operators- and, or, not, is, in\n",
        "    \n",
        "    Variable Scope- global, nonlocal\n",
        "    \n",
        "    Import Statements- import, from, as\n",
        "    \n",
        "    Object-Oriented- self, super (not official keywords, but commonly used in classes)\n",
        "    \n",
        "    Other- with, yield, del\n"
      ],
      "metadata": {
        "id": "-B4eOtONdecX"
      }
    },
    {
      "cell_type": "markdown",
      "source": [
        "4. Can keywords be used as variable names?\n",
        "\n",
        "    -> No, keywords cannot be used as variable names in Python because they are reserved words that define the language’s syntax and functionality. Using a keyword as a variable name will result in a SyntaxError since Python interprets it as part of its structure. For example, if = 10 is invalid, but renaming it to if_condition = 10 makes it a valid variable name."
      ],
      "metadata": {
        "id": "vX7spm9FfXG3"
      }
    },
    {
      "cell_type": "markdown",
      "source": [
        "5.  What is mutability in Python?\n",
        "\n",
        "    -> In Python, mutability refers to whether an object can be modified after its creation. This concept is important for memory management, efficiency, and debugging.\n",
        "\n",
        "    Mutable objects allow modifications without creating a new object in memory. When you change a mutable object, Python updates the same memory location instead of creating a new one.\n",
        "\n",
        "\n",
        "\n",
        "\n",
        "\n"
      ],
      "metadata": {
        "id": "f6KN1QDAf1RS"
      }
    },
    {
      "cell_type": "markdown",
      "source": [
        "6. Why are lists mutable, but tuples are immutable?\n",
        "\n",
        "    -> Lists in Python are mutable because they store references to objects, allowing modifications like adding, removing, or changing elements without creating a new object. This makes them flexible but slightly slower and memory-intensive.\n",
        "    \n",
        "    Tuples, on the other hand, are immutable because they store data in a fixed memory block, making them faster, more memory-efficient, and hashable (usable as dictionary keys). This design choice ensures tuples remain constant, preventing accidental modifications, while lists allow dynamic changes for flexible data handling.\n",
        "\n"
      ],
      "metadata": {
        "id": "OJGL5q7tgh92"
      }
    },
    {
      "cell_type": "markdown",
      "source": [
        "7. What is the difference between “==” and “is” operators in Python?\n",
        "\n",
        "    ->The == operator in Python checks whether two variables have the same value, while the is operator checks whether they refer to the same memory location (object identity).\n",
        "\n",
        "    For example, two lists with identical elements ([1, 2, 3] == [1, 2, 3]) will return True with ==, but False with is because they are stored at different memory locations. However, if a variable is assigned to another (a = b), then a is b will return True since both refer to the same object in memory."
      ],
      "metadata": {
        "id": "_gJSQvCQioWl"
      }
    },
    {
      "cell_type": "markdown",
      "source": [
        "8. What are logical operators in Python?\n",
        "\n",
        "    -> Logical operators in Python are used to combine conditional statements and return a Boolean value (True or False). The three main logical operators are\n",
        "    \n",
        "    and- which returns True if both conditions are True;\n",
        "    \n",
        "    or- which returns True if at least one condition is True;\n",
        "    \n",
        "    not- which negates a Boolean value (True becomes False and vice versa).\n",
        "    \n",
        "    *For example, True and False returns False, True or False returns True, and\n",
        "    not True returns False.\n",
        "    \n",
        "    These operators are commonly used in conditional statements and decision-making logic.\n"
      ],
      "metadata": {
        "id": "Nyp3YE_Ym4Ky"
      }
    },
    {
      "cell_type": "markdown",
      "source": [
        "9. What is type casting in Python?\n",
        "\n",
        "    -> Type casting in Python is the process of converting one data type into another, either implicitly (automatically) or explicitly (manually).\n",
        "    \n",
        "    Implicit type casting happens when Python automatically converts a smaller data type to a larger one (e.g., int to float), such as 5 + 2.5 resulting in 7.5 (converted to float).\n",
        "    \n",
        "    Explicit type casting requires using functions like int(), float(), or str(), for example, converting \"10\" (a string) to 10 using int(\"10\").\n",
        "    \n",
        "    Explicit casting is useful when dealing with user input or mixed data types.\n",
        "\n"
      ],
      "metadata": {
        "id": "34pN5DiHn0w9"
      }
    },
    {
      "cell_type": "markdown",
      "source": [
        "10. What is the difference between implicit and explicit type casting?\n",
        "\n",
        "    ->Implicit type casting in Python occurs automatically when Python converts a smaller data type to a larger one without data loss, such as int to float (10 + 2.5 becomes 12.5).\n",
        "\n",
        "    Explicit type casting, on the other hand, requires manual conversion using functions like int(), float(), or str(), such as int(\"100\") converting a string to an integer.\n",
        "    \n",
        "    Implicit casting ensures smooth operations without errors, while explicit casting is necessary when Python cannot automatically determine a safe conversion, like converting a string to a number.\n",
        "\n",
        "\n",
        "\n",
        "\n",
        "\n",
        "\n",
        "\n",
        "\n",
        "\n",
        "\n",
        "\n",
        "\n"
      ],
      "metadata": {
        "id": "qWj5gGMsoudC"
      }
    },
    {
      "cell_type": "markdown",
      "source": [
        "11. What is the purpose of conditional statements in Python?\n",
        "\n",
        "    -> Conditional statements in Python are used to control the flow of a program by executing specific blocks of code based on whether a given condition is True or False.\n",
        "    \n",
        "    They enable decision-making within a program, allowing different outcomes based on input values.\n",
        "    \n",
        "    The if statement executes a block of code only when the condition is True, while the if-else statement provides an alternative path if the condition is False.\n",
        "    \n",
        "    For more complex decision-making, the if-elif-else structure allows checking multiple conditions sequentially.\n",
        "    \n",
        "    These statements make programs more interactive, flexible, and dynamic, enabling them to handle different situations and user inputs effectively."
      ],
      "metadata": {
        "id": "NxAUMQqVqZkg"
      }
    },
    {
      "cell_type": "markdown",
      "source": [
        "12. How does the elif statement work?\n",
        "\n",
        "    -> The elif statement in Python acts as a bridge between if and else, allowing a program to check multiple conditions in a structured manner.\n",
        "    \n",
        "    Unlike using multiple separate if statements, elif ensures that only the first matching condition executes, making the program more efficient.\n",
        "    \n",
        "    When the if condition fails, Python moves to the first elif and checks its condition. If that too fails, it continues through additional elif statements until a True condition is found.\n",
        "    \n",
        "    If none of the conditions are met, the optional else block runs as a fallback. This approach prevents redundant evaluations, optimizing decision-making in scenarios like grading systems, traffic signal control, or weather-based recommendations."
      ],
      "metadata": {
        "id": "YUfWgIn3rBnq"
      }
    },
    {
      "cell_type": "markdown",
      "source": [
        "13. What is the difference between for and while loops?\n",
        "    \n",
        "    ->The for loop and while loop in Python are both used for iteration, but their functionality differs based on how repetition is controlled.\n",
        "    \n",
        "    A for loop is typically used when the number of iterations is predefined, making it ideal for iterating over sequences like lists, strings, or ranges. It systematically moves through elements and stops when it reaches the last one.\n",
        "    \n",
        "    On the other hand, a while loop runs as long as a given condition remains True, making it useful when the number of iterations is unknown beforehand. This is particularly helpful in cases where a program needs to wait for user input or process data dynamically.\n",
        "    \n",
        "    Unlike for loops, which rely on structured iteration, while loops provide flexibility for condition-based execution, ensuring tasks continue until a specific requirement is met."
      ],
      "metadata": {
        "id": "A3-gV7UQr3Z0"
      }
    },
    {
      "cell_type": "markdown",
      "source": [
        "14. Describe a scenario where a while loop is more suitable than a for loop\n",
        "    \n",
        "    ->A while loop is more suitable than a for loop in scenarios where the number of iterations is unknown and depends on a condition being met.\n",
        "    \n",
        "    One common example is user authentication, where a program repeatedly prompts the user for a correct password until they enter the right one.\n",
        "    \n",
        "    Since the number of attempts varies, a while loop ensures that the process continues until the correct input is provided."
      ],
      "metadata": {
        "id": "N22iE913uMc3"
      }
    },
    {
      "cell_type": "markdown",
      "source": [
        "**PRACTICAL**"
      ],
      "metadata": {
        "id": "mCZOBezJf8uv"
      }
    },
    {
      "cell_type": "code",
      "source": [
        "# 1. Write a Python program to print \"Hello, World!\n",
        "\n",
        "print(\"Hello, World!\")"
      ],
      "metadata": {
        "colab": {
          "base_uri": "https://localhost:8080/"
        },
        "id": "5jaReaw9gEKx",
        "outputId": "ab5ee8dc-c401-473e-98c4-29f990942adb"
      },
      "execution_count": null,
      "outputs": [
        {
          "output_type": "stream",
          "name": "stdout",
          "text": [
            "Hello, World!\n"
          ]
        }
      ]
    },
    {
      "cell_type": "code",
      "source": [
        "# 2. Write a Python program that displays your name and age.\n",
        "\n",
        "name = \"Sunil Velapula\"\n",
        "age = 24\n",
        "print(\"My name is\", name)\n",
        "print(\"I am\", age, \"years old\")"
      ],
      "metadata": {
        "colab": {
          "base_uri": "https://localhost:8080/"
        },
        "id": "2nFTLo_CgcdB",
        "outputId": "68a27f3f-9cb8-47ca-8e60-80035567c540"
      },
      "execution_count": null,
      "outputs": [
        {
          "output_type": "stream",
          "name": "stdout",
          "text": [
            "My name is Sunil Velapula\n",
            "I am 24 years old\n"
          ]
        }
      ]
    },
    {
      "cell_type": "code",
      "source": [
        "# 3. Write a code to print all the pre-defined keywords in Python using the keyword library.\n",
        "\n",
        "import keyword\n",
        "keywords = keyword.kwlist\n",
        "print(\"Below are the Keywords in python:\")\n",
        "for kw in keywords:\n",
        "  print(kw)"
      ],
      "metadata": {
        "colab": {
          "base_uri": "https://localhost:8080/"
        },
        "id": "I_QT7CH4hWTN",
        "outputId": "dc2e4c80-84e0-433d-c58f-ca9988987bd4"
      },
      "execution_count": null,
      "outputs": [
        {
          "output_type": "stream",
          "name": "stdout",
          "text": [
            "Below are the Keywords in python:\n",
            "False\n",
            "None\n",
            "True\n",
            "and\n",
            "as\n",
            "assert\n",
            "async\n",
            "await\n",
            "break\n",
            "class\n",
            "continue\n",
            "def\n",
            "del\n",
            "elif\n",
            "else\n",
            "except\n",
            "finally\n",
            "for\n",
            "from\n",
            "global\n",
            "if\n",
            "import\n",
            "in\n",
            "is\n",
            "lambda\n",
            "nonlocal\n",
            "not\n",
            "or\n",
            "pass\n",
            "raise\n",
            "return\n",
            "try\n",
            "while\n",
            "with\n",
            "yield\n"
          ]
        }
      ]
    },
    {
      "cell_type": "code",
      "source": [
        "# 4. Write a program that checks if a given word is a Python keyword.\n",
        "\n",
        "import keyword\n",
        "word = input(\"Enter a word to check if it is a keyword or not: \") # Gets user input\n",
        "\n",
        "if keyword.iskeyword(word):    # Checks if it is a Python keyword\n",
        "    print(f\"'{word}' is a Python keyword.\")\n",
        "else:\n",
        "    print(f\"'{word}' is NOT a Python keyword.\")"
      ],
      "metadata": {
        "colab": {
          "base_uri": "https://localhost:8080/"
        },
        "id": "84DuCFSWiiWP",
        "outputId": "48ffea9f-c9c7-46a9-c167-8b5280de92cd"
      },
      "execution_count": null,
      "outputs": [
        {
          "output_type": "stream",
          "name": "stdout",
          "text": [
            "Enter a word to check if it is a keyword or not: false\n",
            "'false' is NOT a Python keyword.\n"
          ]
        }
      ]
    },
    {
      "cell_type": "code",
      "source": [
        "# 5. Create a list and tuple in Python, and demonstrate how attempting to change an element works differently for each.\n",
        "\n",
        "my_list = [10, 20, 30, 40, 50]  #Creating a list\n",
        "\n",
        "print(\"Original List:\", my_list)\n",
        "\n",
        "my_list[1] = 99   # Modifying an element in the list\n",
        "\n",
        "print(\"Modified List:\", my_list)  # Works fine\n",
        "\n",
        "my_tuple = (10, 20, 30, 40, 50)     # Creating a tuple (immutable)\n",
        "\n",
        "print(\"\\nOriginal Tuple:\", my_tuple)\n",
        "\n",
        "# Attempting to modify an element in the tuple\n",
        "try:\n",
        "    my_tuple[1] = 99  # Will raise an error\n",
        "except TypeError as e:\n",
        "    print(\"Error:\", e)"
      ],
      "metadata": {
        "colab": {
          "base_uri": "https://localhost:8080/"
        },
        "id": "M1T8uvDKjGh5",
        "outputId": "133ea0a9-9deb-431d-d0b3-1ed7b3543477"
      },
      "execution_count": null,
      "outputs": [
        {
          "output_type": "stream",
          "name": "stdout",
          "text": [
            "Original List: [10, 20, 30, 40, 50]\n",
            "Modified List: [10, 99, 30, 40, 50]\n",
            "\n",
            "Original Tuple: (10, 20, 30, 40, 50)\n",
            "Error: 'tuple' object does not support item assignment\n"
          ]
        }
      ]
    },
    {
      "cell_type": "code",
      "source": [
        "# 6. Write a function to demonstrate the behavior of mutable and immutable arguments. 6 and 7 questions are same.\n",
        "\n",
        "def modify_values(num, my_list):\n",
        "    num += 10  # Creates a new integer (immutable)\n",
        "    my_list.append(108)  # Modifies the existing list (mutable)\n",
        "\n",
        "x = 50        # Immutable object (integer)\n",
        "lst = [1, 2, 3]   # Mutable object (list)\n",
        "\n",
        "modify_values(x, lst)\n",
        "\n",
        "print(\"After function call it is still unchanged - Integer:\", x)  # Unchanged\n",
        "\n",
        "print(\"After function call it is changed - List:\", lst)  # Changed"
      ],
      "metadata": {
        "colab": {
          "base_uri": "https://localhost:8080/"
        },
        "id": "6EHvMNc5qI0q",
        "outputId": "e7dea90a-b7d0-4f2a-9ed4-5cc96cec6fd9"
      },
      "execution_count": null,
      "outputs": [
        {
          "output_type": "stream",
          "name": "stdout",
          "text": [
            "After function call it is still unchanged - Integer: 50\n",
            "After function call it is changed - List: [1, 2, 3, 108]\n"
          ]
        }
      ]
    },
    {
      "cell_type": "code",
      "source": [
        "# 7. Write a function to demonstrate the behavior of mutable and immutable arguments.  6 and 7 questions are same.\n",
        "\n",
        "def modify_values(num, my_list):\n",
        "    num += 10  # Creates a new integer (immutable)\n",
        "    my_list.append(108)  # Modifies the existing list (mutable)\n",
        "\n",
        "x = 50        # Immutable object (integer)\n",
        "lst = [1, 2, 3]   # Mutable object (list)\n",
        "\n",
        "modify_values(x, lst)\n",
        "\n",
        "print(\"After function call it is still unchanged - Integer:\", x)  # Unchanged\n",
        "\n",
        "print(\"After function call it is changed - List:\", lst)  # Changed"
      ],
      "metadata": {
        "colab": {
          "base_uri": "https://localhost:8080/"
        },
        "id": "0LeNcGkLq_If",
        "outputId": "8c302e62-4716-48b6-f034-7e419e28ec08"
      },
      "execution_count": null,
      "outputs": [
        {
          "output_type": "stream",
          "name": "stdout",
          "text": [
            "After function call it is still unchanged - Integer: 50\n",
            "After function call it is changed - List: [1, 2, 3, 108]\n"
          ]
        }
      ]
    },
    {
      "cell_type": "code",
      "source": [
        "# 8. Write a program to demonstrate the use of logical operators.\n",
        "\n",
        "# Gets input\n",
        "a = int(input(\"Enter first number: \"))\n",
        "b = int(input(\"Enter second number: \"))\n",
        "\n",
        "# Logical AND\n",
        "if a > 0 and b > 0:\n",
        "    print(\"Both numbers are positive.\")\n",
        "\n",
        "# Logical OR\n",
        "if a > 0 or b > 0:\n",
        "    print(\"only one number is positive.\")\n",
        "\n",
        "# Logical NOT\n",
        "if not (a < 0 and b < 0):\n",
        "    print(\"Not both numbers are negative.\")\n"
      ],
      "metadata": {
        "colab": {
          "base_uri": "https://localhost:8080/"
        },
        "id": "eJE8OeNerym0",
        "outputId": "e8d39230-b184-4cc7-8ab0-7a3fe40d0db9"
      },
      "execution_count": 31,
      "outputs": [
        {
          "output_type": "stream",
          "name": "stdout",
          "text": [
            "Enter first number: 2\n",
            "Enter second number: 1\n",
            "Both numbers are positive.\n",
            "only one number is positive.\n",
            "Not both numbers are negative.\n"
          ]
        }
      ]
    },
    {
      "cell_type": "code",
      "source": [
        "# 9. Write a Python program to convert user input from string to integer, float, and boolean types.\n",
        "\n",
        "# Take user input\n",
        "user_input = input(\"Enter a value: \")\n",
        "\n",
        "# Convert to integer\n",
        "int_value = int(user_input)\n",
        "print(\"Integer:\", int_value)\n",
        "\n",
        "# Convert to float\n",
        "float_value = float(user_input)\n",
        "print(\"Float:\", float_value)\n",
        "\n",
        "# Convert to boolean (Empty string -> False, Any other value -> True)\n",
        "bool_value = bool(user_input)\n",
        "print(\"Boolean:\", bool_value)"
      ],
      "metadata": {
        "colab": {
          "base_uri": "https://localhost:8080/"
        },
        "id": "Y0hhEd9tuS_7",
        "outputId": "ef6dc7b3-ddb7-4be2-9647-d1ebd1154372"
      },
      "execution_count": null,
      "outputs": [
        {
          "output_type": "stream",
          "name": "stdout",
          "text": [
            "Enter a value: 143\n",
            "Integer: 143\n",
            "Float: 143.0\n",
            "Boolean: True\n"
          ]
        }
      ]
    },
    {
      "cell_type": "code",
      "source": [
        "# 10. Write code to demonstrate type casting with list elements.\n",
        "\n",
        "# Sample list with mixed types as strings\n",
        "str_list = [\"1\", \"2\", \"3\", \"4\", \"5\"]\n",
        "\n",
        "# Convert list elements from string to integer\n",
        "int_list = [int(num) for num in str_list]\n",
        "\n",
        "# Convert list elements from integer to float\n",
        "float_list = [float(num) for num in int_list]\n",
        "\n",
        "# Convert list elements from float to string\n",
        "str_again_list = [str(num) for num in float_list]\n",
        "\n",
        "# Print results\n",
        "print(\"Original list (strings):\", str_list)\n",
        "print(\"After converting to integers:\", int_list)\n",
        "print(\"After converting to floats:\", float_list)\n",
        "print(\"After converting back to strings:\", str_again_list)\n"
      ],
      "metadata": {
        "colab": {
          "base_uri": "https://localhost:8080/"
        },
        "id": "WIT2Lzp-xWY8",
        "outputId": "b697a9a9-71fc-4476-f377-54a595cf7176"
      },
      "execution_count": 23,
      "outputs": [
        {
          "output_type": "stream",
          "name": "stdout",
          "text": [
            "Original list (strings): ['1', '2', '3', '4', '5']\n",
            "After converting to integers: [1, 2, 3, 4, 5]\n",
            "After converting to floats: [1.0, 2.0, 3.0, 4.0, 5.0]\n",
            "After converting back to strings: ['1.0', '2.0', '3.0', '4.0', '5.0']\n"
          ]
        }
      ]
    },
    {
      "cell_type": "code",
      "source": [
        "# 11. Write a program that checks if a number is positive, negative, or zero.\n",
        "\n",
        "\n",
        "def check_number(num):    # Function to check the number\n",
        "    if num > 0:\n",
        "        print(\"The number is positive.\")\n",
        "    elif num < 0:\n",
        "        print(\"The number is negative.\")\n",
        "    else:\n",
        "        print(\"The number is zero.\")\n",
        "\n",
        "try:  # Get user input\n",
        "\n",
        "    number = float(input(\"Enter a number: \"))\n",
        "    check_number(number)\n",
        "except ValueError:\n",
        "    print(\"Please enter a valid number.\")\n"
      ],
      "metadata": {
        "id": "7ZHy5HkXxs_A",
        "colab": {
          "base_uri": "https://localhost:8080/"
        },
        "outputId": "aabb2951-7abb-4cb3-89a1-7a3d048adfc3"
      },
      "execution_count": null,
      "outputs": [
        {
          "output_type": "stream",
          "name": "stdout",
          "text": [
            "Enter a number: 33.5\n",
            "The number is positive.\n"
          ]
        }
      ]
    },
    {
      "cell_type": "code",
      "source": [
        "# 12. Write a for loop to print numbers from 1 to 100.\n",
        "\n",
        "for i in range(1, 101):\n",
        "    print(i)"
      ],
      "metadata": {
        "id": "yJVl0bv8ExzW",
        "colab": {
          "base_uri": "https://localhost:8080/"
        },
        "outputId": "abbb2d2f-53b7-4893-c69a-66eae5dfd705"
      },
      "execution_count": 7,
      "outputs": [
        {
          "output_type": "stream",
          "name": "stdout",
          "text": [
            "1\n",
            "2\n",
            "3\n",
            "4\n",
            "5\n",
            "6\n",
            "7\n",
            "8\n",
            "9\n",
            "10\n",
            "11\n",
            "12\n",
            "13\n",
            "14\n",
            "15\n",
            "16\n",
            "17\n",
            "18\n",
            "19\n",
            "20\n",
            "21\n",
            "22\n",
            "23\n",
            "24\n",
            "25\n",
            "26\n",
            "27\n",
            "28\n",
            "29\n",
            "30\n",
            "31\n",
            "32\n",
            "33\n",
            "34\n",
            "35\n",
            "36\n",
            "37\n",
            "38\n",
            "39\n",
            "40\n",
            "41\n",
            "42\n",
            "43\n",
            "44\n",
            "45\n",
            "46\n",
            "47\n",
            "48\n",
            "49\n",
            "50\n",
            "51\n",
            "52\n",
            "53\n",
            "54\n",
            "55\n",
            "56\n",
            "57\n",
            "58\n",
            "59\n",
            "60\n",
            "61\n",
            "62\n",
            "63\n",
            "64\n",
            "65\n",
            "66\n",
            "67\n",
            "68\n",
            "69\n",
            "70\n",
            "71\n",
            "72\n",
            "73\n",
            "74\n",
            "75\n",
            "76\n",
            "77\n",
            "78\n",
            "79\n",
            "80\n",
            "81\n",
            "82\n",
            "83\n",
            "84\n",
            "85\n",
            "86\n",
            "87\n",
            "88\n",
            "89\n",
            "90\n",
            "91\n",
            "92\n",
            "93\n",
            "94\n",
            "95\n",
            "96\n",
            "97\n",
            "98\n",
            "99\n",
            "100\n"
          ]
        }
      ]
    },
    {
      "cell_type": "code",
      "source": [
        "# 13. Write a Python program to find the sum of all even numbers between 1 and 500.\n",
        "\n",
        "total_value = 0\n",
        "\n",
        "# Loop through even numbers from 2 to 500\n",
        "for n in range(2, 501, 2):\n",
        "    total_value += n  # Add each even number to total value\n",
        "\n",
        "# Print the result\n",
        "print(\"Sum of even numbers from 1 to 500:\", total_value)\n"
      ],
      "metadata": {
        "colab": {
          "base_uri": "https://localhost:8080/"
        },
        "id": "Ws9g2Mj3Fwe8",
        "outputId": "19c0a507-9498-4fdc-ab68-4c7053651c96"
      },
      "execution_count": 10,
      "outputs": [
        {
          "output_type": "stream",
          "name": "stdout",
          "text": [
            "Sum of even numbers from 1 to 500: 62750\n"
          ]
        }
      ]
    },
    {
      "cell_type": "code",
      "source": [
        "# 14. Write a program to reverse a string using a while loop.\n",
        "\n",
        "text = input(\"Enter a string or number: \")\n",
        "reversed_text = \"\"\n",
        "i = len(text) - 1\n",
        "\n",
        "while i >= 0:\n",
        "    reversed_text += text[i]\n",
        "    i -= 1\n",
        "\n",
        "print(\"Reversed:\", reversed_text)\n"
      ],
      "metadata": {
        "colab": {
          "base_uri": "https://localhost:8080/"
        },
        "id": "PAn_tlPDGiTt",
        "outputId": "a37f7882-7079-4e58-9f5f-75d2af3658a3"
      },
      "execution_count": 17,
      "outputs": [
        {
          "output_type": "stream",
          "name": "stdout",
          "text": [
            "Enter a string or number: 3564 234 564 23\n",
            "Reversed: 32 465 432 4653\n"
          ]
        }
      ]
    },
    {
      "cell_type": "code",
      "source": [
        "# 15. Write a Python program to calculate the factorial of a number provided by the user using a while loop.\n",
        "\n",
        "# Gets input\n",
        "num = int(input(\"Enter a number: \"))\n",
        "\n",
        "factorial = 1  #Initialization\n",
        "\n",
        "# Ensure the number is non-negative\n",
        "if num < 0:\n",
        "    print(\"Factorial is not defined for negative numbers.\")\n",
        "else:\n",
        "    i = num  # Start from the given number\n",
        "    while i > 1:\n",
        "        factorial *= i  # Multiply the current value\n",
        "        i -= 1  # Decrease the counter\n",
        "\n",
        "    # Print the result\n",
        "    print(f\"Factorial of {num} is {factorial}\")\n"
      ],
      "metadata": {
        "colab": {
          "base_uri": "https://localhost:8080/"
        },
        "id": "kuHg3e6GHu44",
        "outputId": "c54c3c4e-761d-4c3b-ec0c-a09a45febf31"
      },
      "execution_count": 21,
      "outputs": [
        {
          "output_type": "stream",
          "name": "stdout",
          "text": [
            "Enter a number: 25\n",
            "Factorial of 25 is 15511210043330985984000000\n"
          ]
        }
      ]
    }
  ]
}